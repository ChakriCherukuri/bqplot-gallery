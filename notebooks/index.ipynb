{
 "cells": [
  {
   "cell_type": "markdown",
   "metadata": {},
   "source": [
    "## Applications\n",
    "\n",
    "Index of advanced applications and dashboards built using `bqplot` and widget libraries like `ipywidgets`, `ipydatagrid` etc.\n",
    "\n",
    "<b>These examples will not be rendered well in the output cell of the notebook. Please use\n",
    "[voila](https://github.com/voila-dashboards/voila) to render these as full screen applications.</b>\n",
    "\n",
    "## General\n",
    "* [Mobile Patent Suits](mobile_patent_suits.ipynb)\n",
    "* [Logs Analytics](logs_analytics/logs_analytics.ipynb)\n",
    "* Wealth Of Nations\n",
    "    * [Bubble Chart](wealth_of_nations/bubble_chart.ipynb)\n",
    "    * [Choropleth](wealth_of_nations/choropleth.ipynb)\n",
    "\n",
    "## Data Science and Machine Learning\n",
    "* [Datasaurus Dozen](datasaurus/datasaurus.ipynb)\n",
    "* [K-Means Clustering](kmeans_clustering.ipynb)\n",
    "* [Gradient Descent](gradient_descent.ipynb)\n",
    "* [Gaussian Process Regression](gaussian_process_regression.ipynb)\n",
    "\n",
    "## Finance\n",
    "* [US Equity Index Performance](spx_timeseries/spx_timeseries.ipynb)\n",
    "* [Yield Curve PCA](yc_pca/yield_curve_pca.ipynb)"
   ]
  },
  {
   "cell_type": "code",
   "execution_count": null,
   "metadata": {},
   "outputs": [],
   "source": []
  }
 ],
 "metadata": {
  "kernelspec": {
   "display_name": "Python 3 (ipykernel)",
   "language": "python",
   "name": "python3"
  },
  "language_info": {
   "codemirror_mode": {
    "name": "ipython",
    "version": 3
   },
   "file_extension": ".py",
   "mimetype": "text/x-python",
   "name": "python",
   "nbconvert_exporter": "python",
   "pygments_lexer": "ipython3",
   "version": "3.10.1"
  }
 },
 "nbformat": 4,
 "nbformat_minor": 4
}
