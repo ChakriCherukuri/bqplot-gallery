{
 "cells": [
  {
   "cell_type": "code",
   "execution_count": 1,
   "metadata": {
    "input_collapsed": false
   },
   "outputs": [],
   "source": [
    "from collections import OrderedDict\n",
    "\n",
    "import pandas as pd\n",
    "import numpy as np\n",
    "\n",
    "from ipywidgets import HBox, VBox, RadioButtons, Label, Layout\n",
    "\n",
    "from bqplot import DateScale, OrdinalScale, LinearScale, Lines, Bars, Axis, Figure\n",
    "from bqplot.colorschemes import CATEGORY10, CATEGORY20, CATEGORY20c\n",
    "from bqplot.interacts import FastIntervalSelector\n",
    "\n",
    "import warnings\n",
    "warnings.simplefilter('ignore')"
   ]
  },
  {
   "cell_type": "code",
   "execution_count": 2,
   "metadata": {},
   "outputs": [],
   "source": [
    "yc_df = pd.read_csv('yc_time_series.csv', index_col=0, parse_dates=True)\n",
    "yc_data = yc_df.dropna(axis=0).values\n",
    "dates = yc_df.index.values\n",
    "tenors = list(yc_df.columns)"
   ]
  },
  {
   "cell_type": "code",
   "execution_count": 3,
   "metadata": {
    "input_collapsed": false
   },
   "outputs": [],
   "source": [
    "# get 12 cross-section samples from yc_data\n",
    "def slice_yield_curves(yc_data):\n",
    "    num_rows = yc_data.shape[0]\n",
    "    step = num_rows // 12\n",
    "    return yc_data[::step, :] if step > 1 else yc_data\n",
    "\n",
    "def pca(data):\n",
    "    diffs = np.diff(data, axis=0)\n",
    "    cov_mat = np.cov(diffs.T)\n",
    "    \n",
    "    # eigen decomposition of the cov matrix\n",
    "    w, V = np.linalg.eig(cov_mat)\n",
    "\n",
    "    # sort w, V based on eigenvalues desc\n",
    "    sort_idx = np.argsort(w)[::-1]\n",
    "    w, V = w[sort_idx], V[:, sort_idx]\n",
    "\n",
    "    # de-normalize factors with sqrt of eigen values\n",
    "    V = V * np.sqrt(w)\n",
    "\n",
    "    # convert the 1st factors to be positive\n",
    "    if np.mean(V[:, 0]) < 0:\n",
    "        V[:, 0] *= -1\n",
    "\n",
    "    # convert the 2nd factors to have positive slope\n",
    "    if (V[-1, 1] - V[0, 1]) < 0:\n",
    "        V[:, 1] *= -1\n",
    "    if V[-1, 2] < 0:\n",
    "        V[:, 2] *= -1\n",
    "\n",
    "    return w, V"
   ]
  },
  {
   "cell_type": "code",
   "execution_count": 4,
   "metadata": {
    "input_collapsed": false,
    "scrolled": true
   },
   "outputs": [
    {
     "data": {
      "application/vnd.jupyter.widget-view+json": {
       "model_id": "e56fc37866a54a41a118760c12b026f1",
       "version_major": 2,
       "version_minor": 0
      },
      "text/plain": [
       "VBox(children=(Figure(axes=[Axis(label='Dates', scale=DateScale()), Axis(label_location='end', label_offset='-…"
      ]
     },
     "metadata": {},
     "output_type": "display_data"
    }
   ],
   "source": [
    "overflow = Layout(overflow_x='visible', overflow_y='visible')\n",
    "status_label = Label()\n",
    "status_label.layout.align_self = 'center'\n",
    "status_label.layout.width = '400px'\n",
    "\n",
    "#time series chart of yields with intsel\n",
    "xs1, ys1 = DateScale(), LinearScale(min=0., max=0.06)\n",
    "time_series = Lines(x=[], y=[], scales={'x': xs1, 'y': ys1}, colors=CATEGORY20c, labels=tenors, labels_visibility='label', apply_clip=False)\n",
    "xax1 = Axis(scale=xs1, label='Dates', grid_lines='solid')\n",
    "yax1 = Axis(scale=ys1, orientation='vertical', tick_format='.1%', grid_lines='solid', label_location='end', label_offset='-2ex')\n",
    "intsel = FastIntervalSelector(scale=xs1, marks=[time_series])\n",
    "ts_fig = Figure(marks=[time_series], axes=[xax1, yax1], interaction=intsel, layout=Layout(width='1525px', height='500px'))\n",
    "\n",
    "#yield curve chart\n",
    "xs2, ys2 = OrdinalScale(), LinearScale(min=0., max=0.06)\n",
    "yc_lines = Lines(x=[], y=[], interpolation='basis', colors=CATEGORY20, scales={'x': xs2, 'y': ys2}, stroke_width=2)\n",
    "xax2 = Axis(scale=xs2, label='Tenor', grid_lines='solid', label_location='end', label_offset='-1em')\n",
    "yax2 = Axis(scale=ys2, orientation='vertical', label='Rate', tick_format='.1%', grid_lines='solid',  \n",
    "            label_location='end', label_offset='-2ex')\n",
    "yc_fig = Figure(marks=[yc_lines], axes=[xax2, yax2], \n",
    "                title='Yield Curves (12 selected from the above interval)', layout=Layout(width='550px', height='400px'))\n",
    "\n",
    "#spectrum chart\n",
    "xs3, ys3 = OrdinalScale(), LinearScale(micolorn=0., max=1)\n",
    "spectrum_bar = Bars(x='F1 F2 F3'.split(), y=[], colors=CATEGORY10, scales={'x': xs3, 'y': ys3})\n",
    "xax3, yax3 = Axis(scale=xs3, grid_lines='none'), Axis(scale=ys3, orientation='vertical', tick_format='.0%', grid_lines='solid')\n",
    "spectrum_fig = Figure(marks=[spectrum_bar], axes=[xax3, yax3], title='Variance Explained',\n",
    "                      layout=Layout(width='400px', height='400px'))\n",
    "\n",
    "#pca factor chart\n",
    "xs4, ys4 = OrdinalScale(), LinearScale()\n",
    "#add a zero line for reference\n",
    "zero_line = Lines(x=[], y=[], colors=['#ccc'], scales={'x': xs4, 'y': ys4}, stroke_width=2)\n",
    "factor_lines = Lines(x=[], y=[], interpolation='basis', colors=CATEGORY10, scales={'x': xs4, 'y': ys4}, stroke_width=3.5, \n",
    "                     labels=['PCA Factor ' + str(i+1) for i in range(3)], display_legend=True)\n",
    "xax4 = Axis(scale=xs4, label='Tenor', grid_lines='solid', label_location='end', label_offset='-1em')\n",
    "yax4 = Axis(scale=ys4, orientation='vertical', tick_format='.4f', grid_lines='solid')\n",
    "factor_fig = Figure(marks=[zero_line, factor_lines], \n",
    "                    axes=[xax4, yax4], title='First 3 PCA factors', layout=Layout(width='600px', height='400px'))\n",
    "\n",
    "#link the widgets/charts\n",
    "def do_pca(change):\n",
    "    selected = change.get('new', None) if change else None\n",
    "    if selected is None:\n",
    "        s, e = 0, yc_data.shape[0] - 1\n",
    "    else:\n",
    "        s, e = selected[0], selected[-1]\n",
    "\n",
    "    ts_fig.title = 'Constant Maturity Treasury Yield Curve (From ' + pd.to_datetime(dates[s]).strftime('%m/%d/%Y') + \\\n",
    "                   ' To ' +  pd.to_datetime(dates[e]).strftime('%m/%d/%Y') + ')'\n",
    "    yc_data_slice = yc_data[s:e, :]\n",
    "    yc_lines.y = slice_yield_curves(yc_data_slice)\n",
    "    var, factors = pca(yc_data_slice)\n",
    "    factor_lines.y = factors[:, :3].T\n",
    "    var_expl = var / np.sum(var)\n",
    "    spectrum_bar.y = var_expl[:3]\n",
    "    spectrum_fig.title = 'Variance Explained: ' + '{:.0%}'.format(np.sum(var_expl[:3]))\n",
    "\n",
    "time_series.observe(do_pca, 'selected')\n",
    "\n",
    "xs2.domain = xs4.domain = tenors\n",
    "ts_fig.title = 'Constant Maturity Treasury Yield Curve (From ' + pd.to_datetime(dates[0]).strftime('%m/%d/%Y') + \\\n",
    "               ' To ' +  pd.to_datetime(dates[-1]).strftime('%m/%d/%Y') + ')'\n",
    "\n",
    "with time_series.hold_sync():\n",
    "    time_series.x, time_series.y = dates, yc_data.T\n",
    "\n",
    "with yc_lines.hold_sync():\n",
    "    yc_lines.x = tenors\n",
    "    yc_lines.y = yc_data[::yc_data.shape[0]//12, :]\n",
    "\n",
    "with zero_line.hold_sync():\n",
    "    zero_line.x = np.array([tenors[0], tenors[-1]])\n",
    "    zero_line.y = [0, 0]\n",
    "\n",
    "factor_lines.x = tenors\n",
    "\n",
    "do_pca(None)\n",
    "VBox([ts_fig, HBox([yc_fig, spectrum_fig, factor_fig], layout=overflow), status_label], layout=overflow)"
   ]
  },
  {
   "cell_type": "code",
   "execution_count": null,
   "metadata": {},
   "outputs": [],
   "source": []
  }
 ],
 "metadata": {
  "anaconda-cloud": {},
  "input_collapsed": false,
  "kernelspec": {
   "display_name": "Python 3 (ipykernel)",
   "language": "python",
   "name": "python3"
  },
  "language_info": {
   "codemirror_mode": {
    "name": "ipython",
    "version": 3
   },
   "file_extension": ".py",
   "mimetype": "text/x-python",
   "name": "python",
   "nbconvert_exporter": "python",
   "pygments_lexer": "ipython3",
   "version": "3.9.7"
  }
 },
 "nbformat": 4,
 "nbformat_minor": 2
}
